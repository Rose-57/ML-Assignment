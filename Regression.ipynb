{
 "cells": [
  {
   "cell_type": "code",
   "execution_count": 1,
   "id": "04a36e8b-b3d6-4aba-a94c-ac67c029a10f",
   "metadata": {},
   "outputs": [
    {
     "name": "stdout",
     "output_type": "stream",
     "text": [
      "Requirement already satisfied: scikit-learn in c:\\users\\rosep\\anaconda3\\lib\\site-packages (1.4.2)\n",
      "Requirement already satisfied: numpy>=1.19.5 in c:\\users\\rosep\\anaconda3\\lib\\site-packages (from scikit-learn) (1.26.4)\n",
      "Requirement already satisfied: scipy>=1.6.0 in c:\\users\\rosep\\anaconda3\\lib\\site-packages (from scikit-learn) (1.13.1)\n",
      "Requirement already satisfied: joblib>=1.2.0 in c:\\users\\rosep\\anaconda3\\lib\\site-packages (from scikit-learn) (1.4.2)\n",
      "Requirement already satisfied: threadpoolctl>=2.0.0 in c:\\users\\rosep\\anaconda3\\lib\\site-packages (from scikit-learn) (2.2.0)\n"
     ]
    }
   ],
   "source": [
    " ! pip install scikit-learn"
   ]
  },
  {
   "cell_type": "code",
   "execution_count": 2,
   "id": "4bc03456-95d9-4351-8357-f7119290d456",
   "metadata": {},
   "outputs": [],
   "source": [
    "import pandas as pd\n",
    "from sklearn.datasets import fetch_california_housing\n",
    "from sklearn.preprocessing import StandardScaler\n",
    "from sklearn.linear_model import LinearRegression\n",
    "from sklearn.tree import DecisionTreeRegressor\n",
    "from sklearn.ensemble import RandomForestRegressor, GradientBoostingRegressor\n",
    "from sklearn.svm import SVR\n",
    "from sklearn.metrics import mean_squared_error, mean_absolute_error, r2_score"
   ]
  },
  {
   "cell_type": "code",
   "execution_count": 7,
   "id": "e37a22c1-3f40-4837-b8a1-79fe9593b5d3",
   "metadata": {},
   "outputs": [],
   "source": [
    "# Load and preprocess the dataset\n",
    "data = fetch_california_housing()\n",
    "df = pd.DataFrame(data.data, columns=data.feature_names)\n",
    "df['target'] = data.target"
   ]
  },
  {
   "cell_type": "code",
   "execution_count": 9,
   "id": "93ea05ef-420b-499d-bba2-98c91562ed98",
   "metadata": {},
   "outputs": [
    {
     "data": {
      "text/plain": [
       "MedInc        0\n",
       "HouseAge      0\n",
       "AveRooms      0\n",
       "AveBedrms     0\n",
       "Population    0\n",
       "AveOccup      0\n",
       "Latitude      0\n",
       "Longitude     0\n",
       "target        0\n",
       "dtype: int64"
      ]
     },
     "execution_count": 9,
     "metadata": {},
     "output_type": "execute_result"
    }
   ],
   "source": [
    "# check missing values-checking for missing values ensures data completeness\n",
    "df.isnull().sum()"
   ]
  },
  {
   "cell_type": "code",
   "execution_count": 11,
   "id": "773e184f-d662-45ef-af8b-2648328deaf3",
   "metadata": {},
   "outputs": [],
   "source": [
    "# standardization\n",
    "scaler = StandardScaler()\n",
    "scaled_features = scaler.fit_transform(df.drop('target', axis=1))\n",
    "scaled_df = pd.DataFrame(scaled_features, columns=df.columns[:-1])\n",
    "scaled_df['target'] = df['target']"
   ]
  },
  {
   "cell_type": "code",
   "execution_count": 15,
   "id": "f31ee8e7-40bd-4991-a6bc-f4a06c53520d",
   "metadata": {},
   "outputs": [],
   "source": [
    "# Split features and target variable\n",
    "X = scaled_df.drop('target', axis=1)\n",
    "y = scaled_df['target']"
   ]
  },
  {
   "cell_type": "code",
   "execution_count": 17,
   "id": "6ad6d4c7-37e7-4006-be06-1f863ab08ac1",
   "metadata": {},
   "outputs": [
    {
     "name": "stdout",
     "output_type": "stream",
     "text": [
      "Linear Regression Coefficients: [ 0.8296193   0.11875165 -0.26552688  0.30569623 -0.004503   -0.03932627\n",
      " -0.89988565 -0.870541  ]\n",
      "Intercept: 2.0685581690891386\n"
     ]
    }
   ],
   "source": [
    "# Implement regression algorithms\n",
    "# 1. Linear Regression\n",
    "lr_model = LinearRegression()\n",
    "lr_model.fit(scaled_df.drop('target', axis=1), scaled_df['target'])\n",
    "print(\"Linear Regression Coefficients:\", lr_model.coef_)\n",
    "print(\"Intercept:\", lr_model.intercept_)\n"
   ]
  },
  {
   "cell_type": "code",
   "execution_count": 19,
   "id": "a54fadf2-1a2b-45c4-b7e9-02c16cb882b7",
   "metadata": {},
   "outputs": [
    {
     "name": "stdout",
     "output_type": "stream",
     "text": [
      "Random Forest Feature Importances: [0.51981449 0.05300094 0.04641399 0.03009936 0.03082312 0.13646702\n",
      " 0.09194925 0.09143183]\n"
     ]
    }
   ],
   "source": [
    "# Random Forest model\n",
    "rf_model = RandomForestRegressor()\n",
    "rf_model.fit(scaled_df.drop('target', axis=1), scaled_df['target'])\n",
    "print(\"Random Forest Feature Importances:\", rf_model.feature_importances_)"
   ]
  },
  {
   "cell_type": "code",
   "execution_count": 20,
   "id": "a1a4ce94-05a4-482c-877b-2edbbc1d0d87",
   "metadata": {},
   "outputs": [
    {
     "name": "stdout",
     "output_type": "stream",
     "text": [
      "Feature Importances: [0.52496246 0.05110571 0.05301587 0.0271709  0.03244387 0.13231149\n",
      " 0.09384651 0.0851432 ]\n"
     ]
    }
   ],
   "source": [
    "# Decision Tree model\n",
    "dt_model = DecisionTreeRegressor()\n",
    "dt_model.fit(scaled_df.drop('target', axis=1), scaled_df['target'])\n",
    "print(\"Feature Importances:\", dt_model.feature_importances_)"
   ]
  },
  {
   "cell_type": "code",
   "execution_count": 21,
   "id": "636c2783-f97f-4e8b-9b61-ffab26642f65",
   "metadata": {},
   "outputs": [
    {
     "name": "stdout",
     "output_type": "stream",
     "text": [
      "Gradient Boosting Feature Importances: [0.6001048  0.03278221 0.01959819 0.00437646 0.00310677 0.12575372\n",
      " 0.09430189 0.11997596]\n"
     ]
    }
   ],
   "source": [
    "# Gradient Boosting model\n",
    "gb_model = GradientBoostingRegressor()\n",
    "gb_model.fit(scaled_df.drop('target', axis=1), scaled_df['target'])\n",
    "print(\"Gradient Boosting Feature Importances:\", gb_model.feature_importances_)"
   ]
  },
  {
   "cell_type": "code",
   "execution_count": 22,
   "id": "a47cf455-99ec-4a4c-9b19-b1f88fde47c4",
   "metadata": {},
   "outputs": [
    {
     "name": "stdout",
     "output_type": "stream",
     "text": [
      "SVR Predictions: [4.40193096 4.3042361  4.30026265 3.40263268 2.45377066]\n"
     ]
    }
   ],
   "source": [
    "# SVR model\n",
    "svr_model = SVR()\n",
    "svr_model.fit(scaled_df.drop('target', axis=1), scaled_df['target'])\n",
    "predictions = svr_model.predict(scaled_df.drop('target', axis=1))\n",
    "print(\"SVR Predictions:\", predictions[:5])"
   ]
  },
  {
   "cell_type": "code",
   "execution_count": 33,
   "id": "a588f6ea-6962-4ba7-8591-266640991509",
   "metadata": {},
   "outputs": [
    {
     "name": "stdout",
     "output_type": "stream",
     "text": [
      "     Linear Regression  Decision Tree  Random Forest  Gradient Boosting  \\\n",
      "MSE           0.524321   1.063281e-31       0.034269           0.261884   \n",
      "MAE           0.531164   4.449498e-17       0.119416           0.356249   \n",
      "R2            0.606233   1.000000e+00       0.974263           0.803324   \n",
      "\n",
      "          SVR  \n",
      "MSE  0.332568  \n",
      "MAE  0.381632  \n",
      "R2   0.750240  \n"
     ]
    }
   ],
   "source": [
    "# Function to evaluate models\n",
    "def evaluate_model(model, X, y):\n",
    "    predictions = model.predict(X)\n",
    "    mse = mean_squared_error(y, predictions)\n",
    "    mae = mean_absolute_error(y, predictions)\n",
    "    r2 = r2_score(y, predictions)\n",
    "    return mse, mae, r2\n",
    "\n",
    "# Evaluate all models\n",
    "mse_lr, mae_lr, r2_lr = evaluate_model(lr_model, X, y)\n",
    "mse_dt, mae_dt, r2_dt = evaluate_model(dt_model, X, y)\n",
    "mse_rf, mae_rf, r2_rf = evaluate_model(rf_model, X, y)\n",
    "mse_gb, mae_gb, r2_gb = evaluate_model(gb_model, X, y)\n",
    "mse_svr, mae_svr, r2_svr = evaluate_model(svr_model, X, y)\n",
    "\n",
    "# Store evaluation results\n",
    "results = {\n",
    "    'Linear Regression': [mse_lr, mae_lr, r2_lr],\n",
    "    'Decision Tree': [mse_dt, mae_dt, r2_dt],\n",
    "    'Random Forest': [mse_rf, mae_rf, r2_rf],\n",
    "    'Gradient Boosting': [mse_gb, mae_gb, r2_gb],\n",
    "    'SVR': [mse_svr, mae_svr, r2_svr]\n",
    "}\n",
    "\n",
    "# Display the results\n",
    "results_df = pd.DataFrame(results, index=['MSE', 'MAE', 'R2'])\n",
    "print(results_df)\n",
    "\n"
   ]
  },
  {
   "cell_type": "code",
   "execution_count": null,
   "id": "7faa3b7e-46b4-42d1-9621-0f0c21f30c07",
   "metadata": {},
   "outputs": [],
   "source": []
  }
 ],
 "metadata": {
  "kernelspec": {
   "display_name": "Python 3 (ipykernel)",
   "language": "python",
   "name": "python3"
  },
  "language_info": {
   "codemirror_mode": {
    "name": "ipython",
    "version": 3
   },
   "file_extension": ".py",
   "mimetype": "text/x-python",
   "name": "python",
   "nbconvert_exporter": "python",
   "pygments_lexer": "ipython3",
   "version": "3.12.4"
  }
 },
 "nbformat": 4,
 "nbformat_minor": 5
}
